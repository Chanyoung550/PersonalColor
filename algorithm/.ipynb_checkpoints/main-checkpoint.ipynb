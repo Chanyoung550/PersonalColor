{
 "cells": [
  {
   "cell_type": "code",
   "execution_count": 3,
   "id": "eab2f64b",
   "metadata": {},
   "outputs": [
    {
     "ename": "ImportError",
     "evalue": "cannot import name 'personal_color' from 'personal_color_analysis' (unknown location)",
     "output_type": "error",
     "traceback": [
      "\u001b[0;31m---------------------------------------------------------------------------\u001b[0m",
      "\u001b[0;31mImportError\u001b[0m                               Traceback (most recent call last)",
      "\u001b[0;32m/var/folders/9m/h0klrwl164vbk0dzw733nshc0000gn/T/ipykernel_29152/1970449017.py\u001b[0m in \u001b[0;36m<module>\u001b[0;34m\u001b[0m\n\u001b[0;32m----> 1\u001b[0;31m \u001b[0;32mfrom\u001b[0m \u001b[0mpersonal_color_analysis\u001b[0m \u001b[0;32mimport\u001b[0m \u001b[0mpersonal_color\u001b[0m\u001b[0;34m\u001b[0m\u001b[0;34m\u001b[0m\u001b[0m\n\u001b[0m\u001b[1;32m      2\u001b[0m \u001b[0;32mimport\u001b[0m \u001b[0margparse\u001b[0m\u001b[0;34m\u001b[0m\u001b[0;34m\u001b[0m\u001b[0m\n\u001b[1;32m      3\u001b[0m \u001b[0;32mimport\u001b[0m \u001b[0mos\u001b[0m\u001b[0;34m\u001b[0m\u001b[0;34m\u001b[0m\u001b[0m\n\u001b[1;32m      4\u001b[0m \u001b[0;34m\u001b[0m\u001b[0m\n\u001b[1;32m      5\u001b[0m \u001b[0;34m\u001b[0m\u001b[0m\n",
      "\u001b[0;31mImportError\u001b[0m: cannot import name 'personal_color' from 'personal_color_analysis' (unknown location)"
     ]
    }
   ],
   "source": [
    "\n",
    "from personal_color_analysis import personal_color\n",
    "import argparse\n",
    "import os\n",
    "\n",
    "\n",
    "def main():\n",
    "    # 인자값 받을 인스턴스 생성\n",
    "    parser = argparse.ArgumentParser(description = 'Please input your image.')\n",
    "\n",
    "    # 입력받을 인자값 등록\n",
    "    parser.add_argument('--image', required = False, help='input .jpg or .png file')\n",
    "    parser.add_argument('--dir', required = False, help='input image directory')\n",
    "\n",
    "    # 입력받은 인자값을 args에 저장\n",
    "    args = parser.parse_args()\n",
    "\n",
    "    ##################################\n",
    "    #         a single image         #\n",
    "    ##################################\n",
    "    if args.image != None:\n",
    "        imgpath = args.image\n",
    "        personal_color.analysis(imgpath)\n",
    "\n",
    "    ##################################\n",
    "    #  multiple images in directory  #\n",
    "    ##################################\n",
    "    elif args.dir != None:\n",
    "        dirpath = args.dir\n",
    "        imgs = os.listdir(dirpath)\n",
    "        for imgpath in imgs:\n",
    "            #print(os.path.join(dirpath, imgpath))\n",
    "            personal_color.analysis(os.path.join(dirpath, imgpath))\n",
    "\n",
    "if __name__ == '__main__':\n",
    "    main()"
   ]
  },
  {
   "cell_type": "code",
   "execution_count": null,
   "id": "db90d3d6",
   "metadata": {},
   "outputs": [],
   "source": []
  }
 ],
 "metadata": {
  "kernelspec": {
   "display_name": "Python 3 (ipykernel)",
   "language": "python",
   "name": "python3"
  },
  "language_info": {
   "codemirror_mode": {
    "name": "ipython",
    "version": 3
   },
   "file_extension": ".py",
   "mimetype": "text/x-python",
   "name": "python",
   "nbconvert_exporter": "python",
   "pygments_lexer": "ipython3",
   "version": "3.9.7"
  }
 },
 "nbformat": 4,
 "nbformat_minor": 5
}
